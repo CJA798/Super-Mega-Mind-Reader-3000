{
  "nbformat": 4,
  "nbformat_minor": 0,
  "metadata": {
    "colab": {
      "provenance": []
    },
    "kernelspec": {
      "name": "python3",
      "display_name": "Python 3"
    },
    "language_info": {
      "name": "python"
    }
  },
  "cells": [
    {
      "cell_type": "markdown",
      "source": [
        "# Import Libraries"
      ],
      "metadata": {
        "id": "k3_meb7PAEWU"
      }
    },
    {
      "cell_type": "code",
      "execution_count": 60,
      "metadata": {
        "id": "9-E0q8xYxCUT"
      },
      "outputs": [],
      "source": [
        "import pandas as pd"
      ]
    },
    {
      "cell_type": "markdown",
      "source": [
        "# Load Dataset"
      ],
      "metadata": {
        "id": "6BOIXedl_-e3"
      }
    },
    {
      "cell_type": "code",
      "source": [
        "# Load data\n",
        "header_row_number = 4\n",
        "data = pd.read_csv('/content/test_raw_data.txt', on_bad_lines='warn', header=header_row_number)\n",
        "\n",
        "# Remove the space at the beginning of every header name\n",
        "data = data.rename(columns=lambda x: x.strip())"
      ],
      "metadata": {
        "id": "Oxi4vcmbxZyb"
      },
      "execution_count": 101,
      "outputs": []
    },
    {
      "cell_type": "markdown",
      "source": [
        "# Clean Data"
      ],
      "metadata": {
        "id": "Frb5NHoL_6lE"
      }
    },
    {
      "cell_type": "code",
      "source": [
        "columns_to_keep = ['Sample Index',\n",
        "                  'EXG Channel 0',\n",
        "                  'EXG Channel 1',\n",
        "                  'EXG Channel 2',\n",
        "                  'EXG Channel 3',\n",
        "                  'EXG Channel 4',\n",
        "                  'EXG Channel 5',\n",
        "                  'EXG Channel 6',\n",
        "                  'EXG Channel 7',\n",
        "                   'Timestamp (Formatted)']\n",
        "\n",
        "# Remove unnecessary columns\n",
        "data = data[columns_to_keep]\n",
        "# Drop N/A values and count the number of dropped rows\n",
        "dropped_data = data.dropna()\n",
        "dropped_count = len(data) - len(dropped_data)\n",
        "print(f'Dropped {dropped_count} N/A rows')"
      ],
      "metadata": {
        "colab": {
          "base_uri": "https://localhost:8080/"
        },
        "id": "vAgFscd62YyC",
        "outputId": "b241556b-5f8f-4caf-909b-c37f2dcdd256"
      },
      "execution_count": 97,
      "outputs": [
        {
          "output_type": "stream",
          "name": "stdout",
          "text": [
            "Dropped 0 N/A rows\n"
          ]
        }
      ]
    },
    {
      "cell_type": "code",
      "source": [
        "pip install pynput"
      ],
      "metadata": {
        "colab": {
          "base_uri": "https://localhost:8080/"
        },
        "id": "BXhgu_1JLwo2",
        "outputId": "f42dc7af-02fe-4334-dbc9-575dea6de09e"
      },
      "execution_count": 99,
      "outputs": [
        {
          "output_type": "stream",
          "name": "stdout",
          "text": [
            "Collecting pynput\n",
            "  Downloading pynput-1.7.6-py2.py3-none-any.whl (89 kB)\n",
            "\u001b[?25l     \u001b[90m━━━━━━━━━━━━━━━━━━━━━━━━━━━━━━━━━━━━━━━━\u001b[0m \u001b[32m0.0/89.2 kB\u001b[0m \u001b[31m?\u001b[0m eta \u001b[36m-:--:--\u001b[0m\r\u001b[2K     \u001b[90m━━━━━━━━━━━━━━━━━━━━━━━━━━━━━━━━━━━━━━━━\u001b[0m \u001b[32m89.2/89.2 kB\u001b[0m \u001b[31m2.7 MB/s\u001b[0m eta \u001b[36m0:00:00\u001b[0m\n",
            "\u001b[?25hRequirement already satisfied: six in /usr/local/lib/python3.10/dist-packages (from pynput) (1.16.0)\n",
            "Collecting evdev>=1.3 (from pynput)\n",
            "  Downloading evdev-1.7.0.tar.gz (30 kB)\n",
            "  Installing build dependencies ... \u001b[?25l\u001b[?25hdone\n",
            "  Getting requirements to build wheel ... \u001b[?25l\u001b[?25hdone\n",
            "  Installing backend dependencies ... \u001b[?25l\u001b[?25hdone\n",
            "  Preparing metadata (pyproject.toml) ... \u001b[?25l\u001b[?25hdone\n",
            "Collecting python-xlib>=0.17 (from pynput)\n",
            "  Downloading python_xlib-0.33-py2.py3-none-any.whl (182 kB)\n",
            "\u001b[2K     \u001b[90m━━━━━━━━━━━━━━━━━━━━━━━━━━━━━━━━━━━━━━━━\u001b[0m \u001b[32m182.2/182.2 kB\u001b[0m \u001b[31m8.6 MB/s\u001b[0m eta \u001b[36m0:00:00\u001b[0m\n",
            "\u001b[?25hBuilding wheels for collected packages: evdev\n",
            "  Building wheel for evdev (pyproject.toml) ... \u001b[?25l\u001b[?25hdone\n",
            "  Created wheel for evdev: filename=evdev-1.7.0-cp310-cp310-linux_x86_64.whl size=92527 sha256=a1e70bdc3f00f428db8512da40f34828d5adc5215b38d115faea09ad3fc6dc92\n",
            "  Stored in directory: /root/.cache/pip/wheels/16/c9/19/2c0af606c704d962276592b03175d1796077199329e2777ec0\n",
            "Successfully built evdev\n",
            "Installing collected packages: python-xlib, evdev, pynput\n",
            "Successfully installed evdev-1.7.0 pynput-1.7.6 python-xlib-0.33\n"
          ]
        }
      ]
    },
    {
      "cell_type": "code",
      "source": [
        "import csv\n",
        "from pynput import keyboard\n",
        "from datetime import datetime\n",
        "\n",
        "# Dictionary mapping keys to their corresponding class\n",
        "key_mapping = {\n",
        "    'i': 'instructions',\n",
        "    'n': 'Nothing',\n",
        "    'c': 'Cue',\n",
        "    'm': 'Move'\n",
        "}\n",
        "\n",
        "# List to store the data\n",
        "data = []\n",
        "\n",
        "# Callback function to handle key press events\n",
        "def on_press(key):\n",
        "    try:\n",
        "        # Convert the key to a string\n",
        "        key = key.char\n",
        "        # Check if the key is 'q' to quit the program\n",
        "        if key == 'q':\n",
        "            # Export the data to a CSV file\n",
        "            with open('keylogger_data.csv', mode='w', newline='') as file:\n",
        "                writer = csv.writer(file)\n",
        "                writer.writerow(['Class', 'Timestamp'])\n",
        "                for entry in data:\n",
        "                    writer.writerow(entry)\n",
        "            # Exit the program\n",
        "            exit(0)\n",
        "        # Check if the key is in the mapping\n",
        "        elif key in key_mapping:\n",
        "            # Append the class and timestamp to the data list\n",
        "            data.append((key_mapping[key], datetime.now().strftime('%Y-%m-%d %H:%M:%S.%f')))\n",
        "    except AttributeError:\n",
        "        # Ignore non-character keys\n",
        "        pass\n",
        "\n",
        "# Start the keyboard listener\n",
        "with keyboard.Listener(on_press=on_press) as listener:\n",
        "    listener.join()\n"
      ],
      "metadata": {
        "colab": {
          "base_uri": "https://localhost:8080/",
          "height": 633
        },
        "id": "a5hISRgd8EZ8",
        "outputId": "534d6e2c-b36c-4155-b70a-a95062cbbdb9"
      },
      "execution_count": 100,
      "outputs": [
        {
          "output_type": "error",
          "ename": "ImportError",
          "evalue": "this platform is not supported: ('failed to acquire X connection: Bad display name \"\"', DisplayNameError(''))\n\nTry one of the following resolutions:\n\n * Please make sure that you have an X server running, and that the DISPLAY environment variable is set correctly",
          "traceback": [
            "\u001b[0;31m---------------------------------------------------------------------------\u001b[0m",
            "\u001b[0;31mImportError\u001b[0m                               Traceback (most recent call last)",
            "\u001b[0;32m<ipython-input-100-cb3526ca040c>\u001b[0m in \u001b[0;36m<cell line: 2>\u001b[0;34m()\u001b[0m\n\u001b[1;32m      1\u001b[0m \u001b[0;32mimport\u001b[0m \u001b[0mcsv\u001b[0m\u001b[0;34m\u001b[0m\u001b[0;34m\u001b[0m\u001b[0m\n\u001b[0;32m----> 2\u001b[0;31m \u001b[0;32mfrom\u001b[0m \u001b[0mpynput\u001b[0m \u001b[0;32mimport\u001b[0m \u001b[0mkeyboard\u001b[0m\u001b[0;34m\u001b[0m\u001b[0;34m\u001b[0m\u001b[0m\n\u001b[0m\u001b[1;32m      3\u001b[0m \u001b[0;32mfrom\u001b[0m \u001b[0mdatetime\u001b[0m \u001b[0;32mimport\u001b[0m \u001b[0mdatetime\u001b[0m\u001b[0;34m\u001b[0m\u001b[0;34m\u001b[0m\u001b[0m\n\u001b[1;32m      4\u001b[0m \u001b[0;34m\u001b[0m\u001b[0m\n\u001b[1;32m      5\u001b[0m \u001b[0;31m# Dictionary mapping keys to their corresponding class\u001b[0m\u001b[0;34m\u001b[0m\u001b[0;34m\u001b[0m\u001b[0m\n",
            "\u001b[0;32m/usr/local/lib/python3.10/dist-packages/pynput/__init__.py\u001b[0m in \u001b[0;36m<module>\u001b[0;34m\u001b[0m\n\u001b[1;32m     38\u001b[0m \u001b[0;34m\u001b[0m\u001b[0m\n\u001b[1;32m     39\u001b[0m \u001b[0;34m\u001b[0m\u001b[0m\n\u001b[0;32m---> 40\u001b[0;31m \u001b[0;32mfrom\u001b[0m \u001b[0;34m.\u001b[0m \u001b[0;32mimport\u001b[0m \u001b[0mkeyboard\u001b[0m\u001b[0;34m\u001b[0m\u001b[0;34m\u001b[0m\u001b[0m\n\u001b[0m\u001b[1;32m     41\u001b[0m \u001b[0;32mfrom\u001b[0m \u001b[0;34m.\u001b[0m \u001b[0;32mimport\u001b[0m \u001b[0mmouse\u001b[0m\u001b[0;34m\u001b[0m\u001b[0;34m\u001b[0m\u001b[0m\n",
            "\u001b[0;32m/usr/local/lib/python3.10/dist-packages/pynput/keyboard/__init__.py\u001b[0m in \u001b[0;36m<module>\u001b[0;34m\u001b[0m\n\u001b[1;32m     29\u001b[0m \u001b[0;34m\u001b[0m\u001b[0m\n\u001b[1;32m     30\u001b[0m \u001b[0;34m\u001b[0m\u001b[0m\n\u001b[0;32m---> 31\u001b[0;31m \u001b[0mbackend\u001b[0m \u001b[0;34m=\u001b[0m \u001b[0mbackend\u001b[0m\u001b[0;34m(\u001b[0m\u001b[0m__name__\u001b[0m\u001b[0;34m)\u001b[0m\u001b[0;34m\u001b[0m\u001b[0;34m\u001b[0m\u001b[0m\n\u001b[0m\u001b[1;32m     32\u001b[0m \u001b[0mKeyCode\u001b[0m \u001b[0;34m=\u001b[0m \u001b[0mbackend\u001b[0m\u001b[0;34m.\u001b[0m\u001b[0mKeyCode\u001b[0m\u001b[0;34m\u001b[0m\u001b[0;34m\u001b[0m\u001b[0m\n\u001b[1;32m     33\u001b[0m \u001b[0mKey\u001b[0m \u001b[0;34m=\u001b[0m \u001b[0mbackend\u001b[0m\u001b[0;34m.\u001b[0m\u001b[0mKey\u001b[0m\u001b[0;34m\u001b[0m\u001b[0;34m\u001b[0m\u001b[0m\n",
            "\u001b[0;32m/usr/local/lib/python3.10/dist-packages/pynput/_util/__init__.py\u001b[0m in \u001b[0;36mbackend\u001b[0;34m(package)\u001b[0m\n\u001b[1;32m     74\u001b[0m                 \u001b[0mresolutions\u001b[0m\u001b[0;34m.\u001b[0m\u001b[0mappend\u001b[0m\u001b[0;34m(\u001b[0m\u001b[0mRESOLUTIONS\u001b[0m\u001b[0;34m[\u001b[0m\u001b[0mmodule\u001b[0m\u001b[0;34m]\u001b[0m\u001b[0;34m)\u001b[0m\u001b[0;34m\u001b[0m\u001b[0;34m\u001b[0m\u001b[0m\n\u001b[1;32m     75\u001b[0m \u001b[0;34m\u001b[0m\u001b[0m\n\u001b[0;32m---> 76\u001b[0;31m     raise ImportError('this platform is not supported: {}'.format(\n\u001b[0m\u001b[1;32m     77\u001b[0m         \u001b[0;34m'; '\u001b[0m\u001b[0;34m.\u001b[0m\u001b[0mjoin\u001b[0m\u001b[0;34m(\u001b[0m\u001b[0mstr\u001b[0m\u001b[0;34m(\u001b[0m\u001b[0me\u001b[0m\u001b[0;34m)\u001b[0m \u001b[0;32mfor\u001b[0m \u001b[0me\u001b[0m \u001b[0;32min\u001b[0m \u001b[0merrors\u001b[0m\u001b[0;34m)\u001b[0m\u001b[0;34m)\u001b[0m \u001b[0;34m+\u001b[0m \u001b[0;34m(\u001b[0m\u001b[0;34m'\\n\\n'\u001b[0m\u001b[0;34m\u001b[0m\u001b[0;34m\u001b[0m\u001b[0m\n\u001b[1;32m     78\u001b[0m             \u001b[0;34m'Try one of the following resolutions:\\n\\n'\u001b[0m\u001b[0;34m\u001b[0m\u001b[0;34m\u001b[0m\u001b[0m\n",
            "\u001b[0;31mImportError\u001b[0m: this platform is not supported: ('failed to acquire X connection: Bad display name \"\"', DisplayNameError(''))\n\nTry one of the following resolutions:\n\n * Please make sure that you have an X server running, and that the DISPLAY environment variable is set correctly",
            "",
            "\u001b[0;31m---------------------------------------------------------------------------\u001b[0;32m\nNOTE: If your import is failing due to a missing package, you can\nmanually install dependencies using either !pip or !apt.\n\nTo view examples of installing some common dependencies, click the\n\"Open Examples\" button below.\n\u001b[0;31m---------------------------------------------------------------------------\u001b[0m\n"
          ],
          "errorDetails": {
            "actions": [
              {
                "action": "open_url",
                "actionText": "Open Examples",
                "url": "/notebooks/snippets/importing_libraries.ipynb"
              }
            ]
          }
        }
      ]
    }
  ]
}